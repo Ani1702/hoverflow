{
 "cells": [
  {
   "cell_type": "code",
   "execution_count": 2,
   "id": "d2c562b1-952b-4750-8020-1a3faf87162d",
   "metadata": {},
   "outputs": [
    {
     "name": "stdout",
     "output_type": "stream",
     "text": [
      "Testing red1_red2:\n",
      "{'status': 'Red1 ON, Red2 ON'}\n",
      "Testing red1_green2:\n",
      "{'status': 'Red1 ON, Green2 ON'}\n",
      "Testing turn_off:\n",
      "{'status': 'All LEDs OFF'}\n"
     ]
    }
   ],
   "source": [
    "import requests\n",
    "import time\n",
    "\n",
    "i1=0\n",
    "# Replace this with your Raspberry Pi's IP address\n",
    "raspberry_pi_ip = \"http://192.168.174.105:8000\"\n",
    "\n",
    "# Function to test the API endpoints\n",
    "def test_traffic_light(endpoint):\n",
    "    url = f\"{raspberry_pi_ip}/{endpoint}\"\n",
    "    response = requests.get(url)\n",
    "    print(f\"Testing {endpoint}:\")\n",
    "    print(response.json())  # Print the response from the API\n",
    "\n",
    "# Test turning on Red1 & Green2\n",
    "test_traffic_light(\"red1_red2\")\n",
    "\n",
    "if(i1):\n",
    "    # Test turning on Red2 & Green1\n",
    "    test_traffic_light(\"green1_red2\")\n",
    "else:\n",
    "    # Test turning off all LEDs\n",
    "    test_traffic_light(\"red1_green2\")\n",
    "\n",
    "test_traffic_light(\"turn_off\")\n"
   ]
  },
  {
   "cell_type": "code",
   "execution_count": null,
   "id": "8e4d6fc5-f1c2-4e11-986b-324996d58054",
   "metadata": {},
   "outputs": [],
   "source": []
  },
  {
   "cell_type": "code",
   "execution_count": null,
   "id": "c479bb03-1c75-4612-a1e4-3d0971603e49",
   "metadata": {},
   "outputs": [],
   "source": []
  }
 ],
 "metadata": {
  "kernelspec": {
   "display_name": "Python 3 (ipykernel)",
   "language": "python",
   "name": "python3"
  },
  "language_info": {
   "codemirror_mode": {
    "name": "ipython",
    "version": 3
   },
   "file_extension": ".py",
   "mimetype": "text/x-python",
   "name": "python",
   "nbconvert_exporter": "python",
   "pygments_lexer": "ipython3",
   "version": "3.11.5"
  }
 },
 "nbformat": 4,
 "nbformat_minor": 5
}
